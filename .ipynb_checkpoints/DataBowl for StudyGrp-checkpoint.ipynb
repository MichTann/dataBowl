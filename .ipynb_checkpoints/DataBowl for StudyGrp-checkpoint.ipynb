{
 "cells": [
  {
   "cell_type": "markdown",
   "metadata": {},
   "source": [
    "# Databowl time about children and learning  \n",
    "\n",
    "<img src=\"pictures/763.jpg\" alt=\"Yo\" width=\"200\" height=\"200\" style =\"position:relative;left:1px;\">"
   ]
  },
  {
   "cell_type": "markdown",
   "metadata": {},
   "source": [
    "## Exploring time \n"
   ]
  },
  {
   "cell_type": "markdown",
   "metadata": {},
   "source": [
    "Importing stuff oop"
   ]
  },
  {
   "cell_type": "code",
   "execution_count": 1,
   "metadata": {},
   "outputs": [],
   "source": [
    "%load_ext autoreload\n",
    "%autoreload 2\n",
    "\n",
    "%matplotlib inline"
   ]
  },
  {
   "cell_type": "markdown",
   "metadata": {},
   "source": [
    "From fastai folder, find a file called imports.py <br>\n",
    "sorry I'm not using the fastai directory "
   ]
  },
  {
   "cell_type": "code",
   "execution_count": 3,
   "metadata": {},
   "outputs": [],
   "source": [
    "\n",
    "\n",
    "from pandas_summary import DataFrameSummary\n",
    "from sklearn.ensemble import RandomForestRegressor, RandomForestClassifier\n",
    "from IPython.display import display\n",
    "\n",
    "from sklearn import metrics"
   ]
  },
  {
   "cell_type": "markdown",
   "metadata": {},
   "source": [
    "###### *To note*\n",
    "I made a folder in my data folder, databowl <br>\n",
    "this PATH is assuming my work directory is the ml1 folder in courses <br>\n",
    "Ok wait ah its not"
   ]
  },
  {
   "cell_type": "code",
   "execution_count": 6,
   "metadata": {},
   "outputs": [],
   "source": [
    "PATH = \"databowl\" "
   ]
  },
  {
   "cell_type": "code",
   "execution_count": 7,
   "metadata": {
    "scrolled": true
   },
   "outputs": [
    {
     "name": "stdout",
     "output_type": "stream",
     "text": [
      "sample_submission.csv\n",
      "specs.csv\n",
      "test.csv.zip\n",
      "train.csv\n",
      "train.csv.zip\n",
      "train_labels.csv\n",
      "train_labels.csv.zip\n"
     ]
    }
   ],
   "source": [
    "!ls {PATH}"
   ]
  },
  {
   "cell_type": "markdown",
   "metadata": {},
   "source": [
    "<p style=\"color:red;font-size:20px;\">Warning - df_raw is gonna take very long to run</p>\n",
    "Train.csv is 3GB+, be warned"
   ]
  },
  {
   "cell_type": "code",
   "execution_count": 16,
   "metadata": {},
   "outputs": [],
   "source": [
    "df_raw = pd.read_csv(f'{PATH}/Train.csv', low_memory=False, \n",
    "                     parse_dates=[\"timestamp\"])"
   ]
  },
  {
   "cell_type": "code",
   "execution_count": 21,
   "metadata": {},
   "outputs": [],
   "source": [
    "specs = pd.read_csv(f'{PATH}/specs.csv', low_memory=False)"
   ]
  },
  {
   "cell_type": "markdown",
   "metadata": {},
   "source": [
    "### Saving for another time \n",
    "Well the file is kind of big and i want to sleep "
   ]
  },
  {
   "cell_type": "code",
   "execution_count": 8,
   "metadata": {},
   "outputs": [],
   "source": [
    "import feather"
   ]
  },
  {
   "cell_type": "code",
   "execution_count": 9,
   "metadata": {},
   "outputs": [
    {
     "ename": "NameError",
     "evalue": "name 'os' is not defined",
     "output_type": "error",
     "traceback": [
      "\u001b[1;31m---------------------------------------------------------------------------\u001b[0m",
      "\u001b[1;31mNameError\u001b[0m                                 Traceback (most recent call last)",
      "\u001b[1;32m<ipython-input-9-55ed7910d8aa>\u001b[0m in \u001b[0;36m<module>\u001b[1;34m\u001b[0m\n\u001b[1;32m----> 1\u001b[1;33m \u001b[0mos\u001b[0m\u001b[1;33m.\u001b[0m\u001b[0mmakedirs\u001b[0m\u001b[1;33m(\u001b[0m\u001b[1;34m'tmp'\u001b[0m\u001b[1;33m,\u001b[0m \u001b[0mexist_ok\u001b[0m\u001b[1;33m=\u001b[0m\u001b[1;32mTrue\u001b[0m\u001b[1;33m)\u001b[0m\u001b[1;33m\u001b[0m\u001b[1;33m\u001b[0m\u001b[0m\n\u001b[0m\u001b[0;32m      2\u001b[0m \u001b[0mdf_raw\u001b[0m\u001b[1;33m.\u001b[0m\u001b[0mto_feather\u001b[0m\u001b[1;33m(\u001b[0m\u001b[1;34m'tmp/databowl-raw'\u001b[0m\u001b[1;33m)\u001b[0m\u001b[1;33m\u001b[0m\u001b[1;33m\u001b[0m\u001b[0m\n",
      "\u001b[1;31mNameError\u001b[0m: name 'os' is not defined"
     ]
    }
   ],
   "source": [
    "os.makedirs('tmp', exist_ok=True)\n",
    "df_raw.to_feather('tmp/databowl-raw')"
   ]
  },
  {
   "cell_type": "markdown",
   "metadata": {},
   "source": [
    "### Note \n",
    "you can run this code instead of reading in the csv - think i included the tmp file "
   ]
  },
  {
   "cell_type": "code",
   "execution_count": 10,
   "metadata": {},
   "outputs": [],
   "source": [
    "df_raw = feather.read_dataframe('tmp/databowl-raw')"
   ]
  },
  {
   "cell_type": "code",
   "execution_count": 11,
   "metadata": {},
   "outputs": [
    {
     "data": {
      "text/html": [
       "<div>\n",
       "<style scoped>\n",
       "    .dataframe tbody tr th:only-of-type {\n",
       "        vertical-align: middle;\n",
       "    }\n",
       "\n",
       "    .dataframe tbody tr th {\n",
       "        vertical-align: top;\n",
       "    }\n",
       "\n",
       "    .dataframe thead th {\n",
       "        text-align: right;\n",
       "    }\n",
       "</style>\n",
       "<table border=\"1\" class=\"dataframe\">\n",
       "  <thead>\n",
       "    <tr style=\"text-align: right;\">\n",
       "      <th></th>\n",
       "      <th>event_id</th>\n",
       "      <th>game_session</th>\n",
       "      <th>timestamp</th>\n",
       "      <th>event_data</th>\n",
       "      <th>installation_id</th>\n",
       "      <th>event_count</th>\n",
       "      <th>event_code</th>\n",
       "      <th>game_time</th>\n",
       "      <th>title</th>\n",
       "      <th>type</th>\n",
       "      <th>world</th>\n",
       "    </tr>\n",
       "  </thead>\n",
       "  <tbody>\n",
       "    <tr>\n",
       "      <th>11341037</th>\n",
       "      <td>ab3136ba</td>\n",
       "      <td>c09b94eebfdf50a6</td>\n",
       "      <td>2019-10-10 15:11:15.584</td>\n",
       "      <td>{\"description\":\"Tap another dinosaur.\",\"identi...</td>\n",
       "      <td>fffc0583</td>\n",
       "      <td>66</td>\n",
       "      <td>3110</td>\n",
       "      <td>118615</td>\n",
       "      <td>Dino Dive</td>\n",
       "      <td>Game</td>\n",
       "      <td>MAGMAPEAK</td>\n",
       "    </tr>\n",
       "    <tr>\n",
       "      <th>11341038</th>\n",
       "      <td>27253bdc</td>\n",
       "      <td>6ad8ab25003ef1b0</td>\n",
       "      <td>2019-10-10 15:12:17.364</td>\n",
       "      <td>{\"event_code\": 2000, \"event_count\": 1}</td>\n",
       "      <td>fffc0583</td>\n",
       "      <td>1</td>\n",
       "      <td>2000</td>\n",
       "      <td>0</td>\n",
       "      <td>Crystal Caves - Level 2</td>\n",
       "      <td>Clip</td>\n",
       "      <td>CRYSTALCAVES</td>\n",
       "    </tr>\n",
       "    <tr>\n",
       "      <th>11341039</th>\n",
       "      <td>27253bdc</td>\n",
       "      <td>71904dca23b982c6</td>\n",
       "      <td>2019-10-10 15:13:04.713</td>\n",
       "      <td>{\"event_code\": 2000, \"event_count\": 1}</td>\n",
       "      <td>fffc0583</td>\n",
       "      <td>1</td>\n",
       "      <td>2000</td>\n",
       "      <td>0</td>\n",
       "      <td>Crystal Caves - Level 3</td>\n",
       "      <td>Clip</td>\n",
       "      <td>CRYSTALCAVES</td>\n",
       "    </tr>\n",
       "    <tr>\n",
       "      <th>11341040</th>\n",
       "      <td>27253bdc</td>\n",
       "      <td>2267b18f069e875a</td>\n",
       "      <td>2019-10-10 15:13:54.545</td>\n",
       "      <td>{\"event_code\": 2000, \"event_count\": 1}</td>\n",
       "      <td>fffc0583</td>\n",
       "      <td>1</td>\n",
       "      <td>2000</td>\n",
       "      <td>0</td>\n",
       "      <td>Crystal Caves - Level 3</td>\n",
       "      <td>Clip</td>\n",
       "      <td>CRYSTALCAVES</td>\n",
       "    </tr>\n",
       "    <tr>\n",
       "      <th>11341041</th>\n",
       "      <td>27253bdc</td>\n",
       "      <td>f31950f549d7c242</td>\n",
       "      <td>2019-10-10 15:15:12.483</td>\n",
       "      <td>{\"event_code\": 2000, \"event_count\": 1}</td>\n",
       "      <td>fffc0583</td>\n",
       "      <td>1</td>\n",
       "      <td>2000</td>\n",
       "      <td>0</td>\n",
       "      <td>Tree Top City - Level 2</td>\n",
       "      <td>Clip</td>\n",
       "      <td>TREETOPCITY</td>\n",
       "    </tr>\n",
       "  </tbody>\n",
       "</table>\n",
       "</div>"
      ],
      "text/plain": [
       "          event_id      game_session               timestamp  \\\n",
       "11341037  ab3136ba  c09b94eebfdf50a6 2019-10-10 15:11:15.584   \n",
       "11341038  27253bdc  6ad8ab25003ef1b0 2019-10-10 15:12:17.364   \n",
       "11341039  27253bdc  71904dca23b982c6 2019-10-10 15:13:04.713   \n",
       "11341040  27253bdc  2267b18f069e875a 2019-10-10 15:13:54.545   \n",
       "11341041  27253bdc  f31950f549d7c242 2019-10-10 15:15:12.483   \n",
       "\n",
       "                                                 event_data installation_id  \\\n",
       "11341037  {\"description\":\"Tap another dinosaur.\",\"identi...        fffc0583   \n",
       "11341038             {\"event_code\": 2000, \"event_count\": 1}        fffc0583   \n",
       "11341039             {\"event_code\": 2000, \"event_count\": 1}        fffc0583   \n",
       "11341040             {\"event_code\": 2000, \"event_count\": 1}        fffc0583   \n",
       "11341041             {\"event_code\": 2000, \"event_count\": 1}        fffc0583   \n",
       "\n",
       "          event_count  event_code  game_time                    title  type  \\\n",
       "11341037           66        3110     118615                Dino Dive  Game   \n",
       "11341038            1        2000          0  Crystal Caves - Level 2  Clip   \n",
       "11341039            1        2000          0  Crystal Caves - Level 3  Clip   \n",
       "11341040            1        2000          0  Crystal Caves - Level 3  Clip   \n",
       "11341041            1        2000          0  Tree Top City - Level 2  Clip   \n",
       "\n",
       "                 world  \n",
       "11341037     MAGMAPEAK  \n",
       "11341038  CRYSTALCAVES  \n",
       "11341039  CRYSTALCAVES  \n",
       "11341040  CRYSTALCAVES  \n",
       "11341041   TREETOPCITY  "
      ]
     },
     "execution_count": 11,
     "metadata": {},
     "output_type": "execute_result"
    }
   ],
   "source": [
    "df_raw.tail()"
   ]
  },
  {
   "cell_type": "markdown",
   "metadata": {},
   "source": [
    "## From kaggle data info \n",
    "\n",
    "<h3> train.csv & test.csv </h3>\n",
    "<ul>\n",
    "<li><code>event_id</code> - Randomly generated unique identifier for the event type. Maps to <code>event_id</code> column in specs table.</li>\n",
    "<li><code>game_session</code> - Randomly generated unique identifier grouping events within a single game or video play session. </li>\n",
    "<li><code>timestamp</code> - Client-generated datetime</li>\n",
    "<li><code>event_data</code> - Semi-structured JSON formatted string containing the events parameters. Default fields are: <code>event_count</code>, <code>event_code</code>, and <code>game_time</code>; otherwise fields are determined by the event type.</li>\n",
    "<li><code>installation_id</code> - Randomly generated unique identifier grouping game sessions within a single installed application instance. </li>\n",
    "<li><code>event_count</code> - Incremental counter of events within a game session (offset at 1). Extracted from <code>event_data</code>.</li>\n",
    "<li><code>event_code</code> - Identifier of the event 'class'. Unique per game, but may be duplicated across games. E.g. event code '2000' always identifies the 'Start Game' event for all games. Extracted from <code>event_data</code>.</li>\n",
    "<li><code>game_time</code> - Time in milliseconds since the start of the game session. Extracted from <code>event_data</code>.</li>\n",
    "<li><code>title</code> - Title of the game or video.</li>\n",
    "<li><code>type</code> - Media type of the game or video. Possible values are: 'Game', 'Assessment', 'Activity', 'Clip'.</li>\n",
    "<li><code>world</code> - The section of the application the game or video belongs to. Helpful to identify the educational curriculum goals of the media. Possible values are: 'NONE' (at the app's start screen), TREETOPCITY' (Length/Height), 'MAGMAPEAK' (Capacity/Displacement), 'CRYSTALCAVES' (Weight).</li>\n",
    "</ul>\n",
    "\n",
    "\n",
    "<h3> specs.csv</h3>\n",
    "<ul>\n",
    "<li><code>event_id</code> - Global unique identifier for the event type. Joins to <code>event_id</code> column in events table.</li>\n",
    "<li><code>info</code> - Description of the event. </li>\n",
    "<li><code>args</code> - JSON formatted string of event arguments. Each argument contains:\n",
    "<ul><li><code>name</code>  - Argument name.</li>\n",
    "<li><code>type</code> - Type of the argument (<code>string</code>, <code>int</code>, <code>number</code>, <code>object</code>, <code>array</code>).</li>\n",
    "<li><code>info</code> - Description of the argument.</li></ul></li>\n",
    "</ul>"
   ]
  },
  {
   "cell_type": "markdown",
   "metadata": {},
   "source": [
    "## First impressions \n",
    "<ul>\n",
    "    <li> Could <code>game_time</code> affect the results? even if the person does get it right but took very long maybe they just suck?\n",
    "    </li>\n",
    "    <li>Gotta map <code>specs</code> with <code>world</code> of train.csv</li>\n",
    "    </ul>"
   ]
  }
 ],
 "metadata": {
  "kernelspec": {
   "display_name": "Python 3",
   "language": "python",
   "name": "python3"
  },
  "language_info": {
   "codemirror_mode": {
    "name": "ipython",
    "version": 3
   },
   "file_extension": ".py",
   "mimetype": "text/x-python",
   "name": "python",
   "nbconvert_exporter": "python",
   "pygments_lexer": "ipython3",
   "version": "3.6.10"
  }
 },
 "nbformat": 4,
 "nbformat_minor": 4
}
